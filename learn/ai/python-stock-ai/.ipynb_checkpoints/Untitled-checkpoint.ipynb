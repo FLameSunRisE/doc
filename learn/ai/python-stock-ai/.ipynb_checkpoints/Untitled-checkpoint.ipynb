{
 "cells": [
  {
   "cell_type": "code",
   "execution_count": null,
   "id": "360e8ca0",
   "metadata": {},
   "outputs": [],
   "source": [
    "print('WTTT')"
   ]
  },
  {
   "cell_type": "code",
   "execution_count": null,
   "id": "dc3c004a",
   "metadata": {},
   "outputs": [],
   "source": []
  }
 ],
 "metadata": {
  "kernelspec": {
   "display_name": "finlab",
   "language": "python",
   "name": "finlab"
  },
  "language_info": {
   "name": ""
  }
 },
 "nbformat": 4,
 "nbformat_minor": 5
}
